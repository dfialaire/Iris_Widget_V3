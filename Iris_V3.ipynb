{
 "cells": [
  {
   "cell_type": "code",
   "execution_count": null,
   "metadata": {},
   "outputs": [],
   "source": [
    "from ipywidgets import *\n",
    "import io\n",
    "import cv2\n",
    "import PIL.Image\n",
    "from scipy.ndimage import filters\n",
    "##########\n",
    "def compress_to_bytes(data, fmt):\n",
    "    \"\"\"\n",
    "    Helper function to compress image data via PIL/Pillow.\n",
    "    \"\"\"\n",
    "    buff = io.BytesIO()\n",
    "    img = PIL.Image.fromarray(data)    \n",
    "    img.save(buff, format=fmt)\n",
    "    return buff.getvalue()\n",
    "##########\n",
    "img = cv2.imread(\"Bienvenue.png\", cv2.IMREAD_COLOR)\n",
    "img_rgb = cv2.cvtColor(img, cv2.COLOR_BGR2RGB)\n",
    "fmt = 'png'\n",
    "data_comp = compress_to_bytes(img_rgb, fmt)\n",
    "image_headline = widgets.Image(value=data_comp,format='jpg',width='640')\n",
    "display(image_headline)\n",
    "            #################################\n",
    "\n",
    "            #################################\n",
    "a = widgets.IntSlider(min = 0, max = 3,  value = 0 , description='a')\n",
    "display(a)\n",
    "def f(a):\n",
    "    img = cv2.imread(\"Bienvenue.png\", cv2.IMREAD_COLOR)\n",
    "    img_rgb = cv2.cvtColor(img, cv2.COLOR_BGR2RGB)\n",
    "    img_rgb = filters.gaussian_filter(img_rgb,a)\n",
    "    fmt = 'png'\n",
    "    data_comp = compress_to_bytes(img_rgb, fmt)\n",
    "    image_headline.value=data_comp\n",
    "\n",
    "out = widgets.interactive_output(f, {'a': a} )\n",
    "\n",
    "display(out)\n",
    "\n"
   ]
  },
  {
   "cell_type": "code",
   "execution_count": null,
   "metadata": {},
   "outputs": [],
   "source": []
  }
 ],
 "metadata": {
  "kernelspec": {
   "display_name": "Python 3",
   "language": "python",
   "name": "python3"
  },
  "language_info": {
   "codemirror_mode": {
    "name": "ipython",
    "version": 3
   },
   "file_extension": ".py",
   "mimetype": "text/x-python",
   "name": "python",
   "nbconvert_exporter": "python",
   "pygments_lexer": "ipython3",
   "version": "3.7.10"
  }
 },
 "nbformat": 4,
 "nbformat_minor": 2
}
